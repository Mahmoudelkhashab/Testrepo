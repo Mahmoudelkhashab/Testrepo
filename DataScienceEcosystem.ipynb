{
 "cells": [
  {
   "cell_type": "markdown",
   "id": "82c3a6bc-1483-4662-bc99-9fbc1ce60a37",
   "metadata": {},
   "source": [
    "# Data Science Tools and Ecosystem"
   ]
  },
  {
   "cell_type": "markdown",
   "id": "950edc0d-62db-4a79-8b9c-5fea8d9ef27f",
   "metadata": {},
   "source": [
    "In this notebook, Data Science Tools and Ecosystem are summarized."
   ]
  },
  {
   "cell_type": "markdown",
   "id": "d221d66b-eb43-47c3-8466-73d5bf5899db",
   "metadata": {},
   "source": [
    "Some of the popular languages that Data Scientists use are: \n",
    "<br> 1.Python\n",
    "<br> 2.R \n",
    "<br> 3.SQL"
   ]
  },
  {
   "cell_type": "markdown",
   "id": "8aedef81-b759-4c6e-abf3-da1eb2bb844d",
   "metadata": {},
   "source": [
    "Some of the commonly used libraries used by Data Scientists include:\n",
    "<br>1-Pandas\n",
    "<br>2-numpy\n",
    "<br>3-Seaborn\n",
    "<br>4-Seaborn\n",
    "<br>5-scipy"
   ]
  },
  {
   "cell_type": "markdown",
   "id": "399baac5-6de1-45a4-91e2-89f5baa69678",
   "metadata": {},
   "source": [
    "| Data Science Tools |\n",
    "| --- |\n",
    "| Jupyter lap |\n",
    "| Apache Spark |\n",
    "| RStudio |"
   ]
  },
  {
   "cell_type": "markdown",
   "id": "88081e66-1150-4f28-b546-a7c1447cbbd6",
   "metadata": {},
   "source": [
    "### Below are a few examples of evaluating arithmetic expressions in Python.\n",
    " |"
   ]
  },
  {
   "cell_type": "code",
   "execution_count": 6,
   "id": "face7e2a-615b-46d5-a6c0-47872ed14f06",
   "metadata": {},
   "outputs": [
    {
     "name": "stdout",
     "output_type": "stream",
     "text": [
      "17\n"
     ]
    }
   ],
   "source": [
    "#This a simple arithmetic expression to mutiply then add integers.\n",
    "x= (3*4)+5\n",
    "print(x)"
   ]
  },
  {
   "cell_type": "code",
   "execution_count": 7,
   "id": "912f027d-77c9-4c10-9ba7-c235db3833af",
   "metadata": {},
   "outputs": [
    {
     "name": "stdout",
     "output_type": "stream",
     "text": [
      "3.3333333333333335\n"
     ]
    }
   ],
   "source": [
    "#This will convert 200 minutes to hours by diving by 60.\n",
    "mins = 200\n",
    "hrs = mins / 60\n",
    "print(hrs)"
   ]
  },
  {
   "cell_type": "markdown",
   "id": "841c0ebb-b2a2-48f5-bd55-952e3726b8ef",
   "metadata": {},
   "source": [
    "__Objectives :__\n",
    "- List some of popular languages for Data Science .\n",
    "- List some of popular Libraries for Data Science .\n",
    "- List some of popular open source Data Science Tools ."
   ]
  },
  {
   "cell_type": "markdown",
   "id": "81497a7b-6fdd-460d-a456-a5c1fea35be8",
   "metadata": {},
   "source": [
    "## Author\n",
    "Mahmoud Ibrahim Hanafy Ibrahim"
   ]
  },
  {
   "cell_type": "code",
   "execution_count": null,
   "id": "ca187ff8-7c29-4e76-a1bd-730a736ee56e",
   "metadata": {},
   "outputs": [],
   "source": []
  }
 ],
 "metadata": {
  "kernelspec": {
   "display_name": "Python 3 (ipykernel)",
   "language": "python",
   "name": "python3"
  },
  "language_info": {
   "codemirror_mode": {
    "name": "ipython",
    "version": 3
   },
   "file_extension": ".py",
   "mimetype": "text/x-python",
   "name": "python",
   "nbconvert_exporter": "python",
   "pygments_lexer": "ipython3",
   "version": "3.12.4"
  }
 },
 "nbformat": 4,
 "nbformat_minor": 5
}
